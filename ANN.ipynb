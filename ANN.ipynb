{
 "cells": [
  {
   "cell_type": "code",
   "execution_count": 60,
   "metadata": {},
   "outputs": [],
   "source": [
    "import numpy as np\n",
    "import pandas as pd\n",
    "import os\n",
    "import warnings\n",
    "warnings.filterwarnings('ignore')"
   ]
  },
  {
   "cell_type": "code",
   "execution_count": 61,
   "metadata": {},
   "outputs": [],
   "source": [
    "data = pd.read_csv(\"./datasets/heart.csv\")"
   ]
  },
  {
   "cell_type": "code",
   "execution_count": 62,
   "metadata": {},
   "outputs": [],
   "source": [
    "train = data.drop('target',axis = 1)"
   ]
  },
  {
   "cell_type": "code",
   "execution_count": 63,
   "metadata": {},
   "outputs": [],
   "source": [
    "from sklearn.model_selection import train_test_split\n",
    "\n",
    "X_train, X_test, y_train, y_test = train_test_split(train, data.target, test_size=0.3,random_state=42)"
   ]
  },
  {
   "cell_type": "code",
   "execution_count": 64,
   "metadata": {},
   "outputs": [],
   "source": [
    "from sklearn.preprocessing import StandardScaler\n",
    "sc = StandardScaler()\n",
    "X_train = sc.fit_transform(X_train)\n",
    "X_test = sc.transform(X_test)"
   ]
  },
  {
   "cell_type": "code",
   "execution_count": 65,
   "metadata": {},
   "outputs": [],
   "source": [
    "import keras\n",
    "from keras.models import Sequential\n",
    "from keras.layers import Dense"
   ]
  },
  {
   "cell_type": "code",
   "execution_count": 66,
   "metadata": {},
   "outputs": [],
   "source": [
    "model  = Sequential()"
   ]
  },
  {
   "cell_type": "code",
   "execution_count": 69,
   "metadata": {
    "scrolled": false
   },
   "outputs": [
    {
     "name": "stdout",
     "output_type": "stream",
     "text": [
      "Epoch 1/100\n",
      "212/212 [==============================] - 0s 2ms/step - loss: 0.6932 - acc: 0.5000\n",
      "Epoch 2/100\n",
      "212/212 [==============================] - 0s 87us/step - loss: 0.6927 - acc: 0.5472\n",
      "Epoch 3/100\n",
      "212/212 [==============================] - 0s 98us/step - loss: 0.6906 - acc: 0.7358\n",
      "Epoch 4/100\n",
      "212/212 [==============================] - 0s 93us/step - loss: 0.6835 - acc: 0.8113\n",
      "Epoch 5/100\n",
      "212/212 [==============================] - 0s 89us/step - loss: 0.6661 - acc: 0.8113\n",
      "Epoch 6/100\n",
      "212/212 [==============================] - 0s 90us/step - loss: 0.6361 - acc: 0.8066\n",
      "Epoch 7/100\n",
      "212/212 [==============================] - 0s 101us/step - loss: 0.6000 - acc: 0.8160\n",
      "Epoch 8/100\n",
      "212/212 [==============================] - 0s 85us/step - loss: 0.5676 - acc: 0.8208\n",
      "Epoch 9/100\n",
      "212/212 [==============================] - 0s 91us/step - loss: 0.5436 - acc: 0.8255\n",
      "Epoch 10/100\n",
      "212/212 [==============================] - 0s 97us/step - loss: 0.5291 - acc: 0.8302\n",
      "Epoch 11/100\n",
      "212/212 [==============================] - 0s 93us/step - loss: 0.5179 - acc: 0.8396\n",
      "Epoch 12/100\n",
      "212/212 [==============================] - 0s 96us/step - loss: 0.5096 - acc: 0.8349\n",
      "Epoch 13/100\n",
      "212/212 [==============================] - 0s 90us/step - loss: 0.5021 - acc: 0.8396\n",
      "Epoch 14/100\n",
      "212/212 [==============================] - 0s 90us/step - loss: 0.4961 - acc: 0.8443\n",
      "Epoch 15/100\n",
      "212/212 [==============================] - 0s 93us/step - loss: 0.4900 - acc: 0.8491\n",
      "Epoch 16/100\n",
      "212/212 [==============================] - 0s 90us/step - loss: 0.4857 - acc: 0.8585\n",
      "Epoch 17/100\n",
      "212/212 [==============================] - 0s 82us/step - loss: 0.4803 - acc: 0.8585\n",
      "Epoch 18/100\n",
      "212/212 [==============================] - 0s 94us/step - loss: 0.4759 - acc: 0.8679\n",
      "Epoch 19/100\n",
      "212/212 [==============================] - 0s 93us/step - loss: 0.4718 - acc: 0.8632\n",
      "Epoch 20/100\n",
      "212/212 [==============================] - 0s 96us/step - loss: 0.4680 - acc: 0.8632\n",
      "Epoch 21/100\n",
      "212/212 [==============================] - 0s 110us/step - loss: 0.4644 - acc: 0.8632\n",
      "Epoch 22/100\n",
      "212/212 [==============================] - 0s 88us/step - loss: 0.4604 - acc: 0.8726\n",
      "Epoch 23/100\n",
      "212/212 [==============================] - 0s 101us/step - loss: 0.4574 - acc: 0.8726\n",
      "Epoch 24/100\n",
      "212/212 [==============================] - 0s 87us/step - loss: 0.4537 - acc: 0.8726\n",
      "Epoch 25/100\n",
      "212/212 [==============================] - 0s 89us/step - loss: 0.4505 - acc: 0.8774\n",
      "Epoch 26/100\n",
      "212/212 [==============================] - 0s 88us/step - loss: 0.4472 - acc: 0.8821\n",
      "Epoch 27/100\n",
      "212/212 [==============================] - 0s 89us/step - loss: 0.4438 - acc: 0.8774\n",
      "Epoch 28/100\n",
      "212/212 [==============================] - 0s 100us/step - loss: 0.4407 - acc: 0.8868\n",
      "Epoch 29/100\n",
      "212/212 [==============================] - 0s 90us/step - loss: 0.4383 - acc: 0.8821\n",
      "Epoch 30/100\n",
      "212/212 [==============================] - 0s 97us/step - loss: 0.4346 - acc: 0.8821\n",
      "Epoch 31/100\n",
      "212/212 [==============================] - 0s 89us/step - loss: 0.4316 - acc: 0.8821\n",
      "Epoch 32/100\n",
      "212/212 [==============================] - 0s 96us/step - loss: 0.4288 - acc: 0.8915\n",
      "Epoch 33/100\n",
      "212/212 [==============================] - 0s 100us/step - loss: 0.4265 - acc: 0.8868\n",
      "Epoch 34/100\n",
      "212/212 [==============================] - 0s 99us/step - loss: 0.4236 - acc: 0.8868\n",
      "Epoch 35/100\n",
      "212/212 [==============================] - 0s 91us/step - loss: 0.4207 - acc: 0.8962\n",
      "Epoch 36/100\n",
      "212/212 [==============================] - 0s 92us/step - loss: 0.4177 - acc: 0.8962\n",
      "Epoch 37/100\n",
      "212/212 [==============================] - 0s 91us/step - loss: 0.4153 - acc: 0.8962\n",
      "Epoch 38/100\n",
      "212/212 [==============================] - 0s 93us/step - loss: 0.4126 - acc: 0.8962\n",
      "Epoch 39/100\n",
      "212/212 [==============================] - 0s 94us/step - loss: 0.4100 - acc: 0.8962\n",
      "Epoch 40/100\n",
      "212/212 [==============================] - 0s 96us/step - loss: 0.4078 - acc: 0.8962\n",
      "Epoch 41/100\n",
      "212/212 [==============================] - 0s 91us/step - loss: 0.4056 - acc: 0.8962\n",
      "Epoch 42/100\n",
      "212/212 [==============================] - 0s 95us/step - loss: 0.4026 - acc: 0.8962\n",
      "Epoch 43/100\n",
      "212/212 [==============================] - 0s 88us/step - loss: 0.4002 - acc: 0.8962\n",
      "Epoch 44/100\n",
      "212/212 [==============================] - 0s 105us/step - loss: 0.3980 - acc: 0.8962\n",
      "Epoch 45/100\n",
      "212/212 [==============================] - 0s 95us/step - loss: 0.3954 - acc: 0.8962\n",
      "Epoch 46/100\n",
      "212/212 [==============================] - 0s 99us/step - loss: 0.3930 - acc: 0.9009\n",
      "Epoch 47/100\n",
      "212/212 [==============================] - 0s 96us/step - loss: 0.3905 - acc: 0.9009\n",
      "Epoch 48/100\n",
      "212/212 [==============================] - 0s 92us/step - loss: 0.3880 - acc: 0.9057\n",
      "Epoch 49/100\n",
      "212/212 [==============================] - 0s 91us/step - loss: 0.3862 - acc: 0.9057\n",
      "Epoch 50/100\n",
      "212/212 [==============================] - 0s 96us/step - loss: 0.3841 - acc: 0.9057\n",
      "Epoch 51/100\n",
      "212/212 [==============================] - 0s 92us/step - loss: 0.3818 - acc: 0.9009\n",
      "Epoch 52/100\n",
      "212/212 [==============================] - 0s 95us/step - loss: 0.3790 - acc: 0.9057\n",
      "Epoch 53/100\n",
      "212/212 [==============================] - 0s 100us/step - loss: 0.3766 - acc: 0.9057\n",
      "Epoch 54/100\n",
      "212/212 [==============================] - 0s 92us/step - loss: 0.3741 - acc: 0.9057\n",
      "Epoch 55/100\n",
      "212/212 [==============================] - 0s 101us/step - loss: 0.3727 - acc: 0.9057\n",
      "Epoch 56/100\n",
      "212/212 [==============================] - 0s 95us/step - loss: 0.3700 - acc: 0.9057\n",
      "Epoch 57/100\n",
      "212/212 [==============================] - 0s 108us/step - loss: 0.3681 - acc: 0.9057\n",
      "Epoch 58/100\n",
      "212/212 [==============================] - 0s 86us/step - loss: 0.3661 - acc: 0.9057\n",
      "Epoch 59/100\n",
      "212/212 [==============================] - 0s 94us/step - loss: 0.3637 - acc: 0.9057\n",
      "Epoch 60/100\n",
      "212/212 [==============================] - 0s 107us/step - loss: 0.3620 - acc: 0.9009\n",
      "Epoch 61/100\n",
      "212/212 [==============================] - 0s 97us/step - loss: 0.3622 - acc: 0.9057\n",
      "Epoch 62/100\n",
      "212/212 [==============================] - 0s 80us/step - loss: 0.3584 - acc: 0.9104\n",
      "Epoch 63/100\n",
      "212/212 [==============================] - 0s 91us/step - loss: 0.3563 - acc: 0.9057\n",
      "Epoch 64/100\n",
      "212/212 [==============================] - 0s 99us/step - loss: 0.3541 - acc: 0.9009\n",
      "Epoch 65/100\n",
      "212/212 [==============================] - 0s 93us/step - loss: 0.3529 - acc: 0.9057\n",
      "Epoch 66/100\n",
      "212/212 [==============================] - 0s 104us/step - loss: 0.3505 - acc: 0.9057\n",
      "Epoch 67/100\n",
      "212/212 [==============================] - 0s 99us/step - loss: 0.3485 - acc: 0.9009\n",
      "Epoch 68/100\n",
      "212/212 [==============================] - 0s 81us/step - loss: 0.3463 - acc: 0.9009\n",
      "Epoch 69/100\n",
      "212/212 [==============================] - 0s 94us/step - loss: 0.3451 - acc: 0.9009\n",
      "Epoch 70/100\n",
      "212/212 [==============================] - 0s 102us/step - loss: 0.3422 - acc: 0.9057\n",
      "Epoch 71/100\n",
      "212/212 [==============================] - 0s 98us/step - loss: 0.3403 - acc: 0.9104\n",
      "Epoch 72/100\n",
      "212/212 [==============================] - 0s 106us/step - loss: 0.3386 - acc: 0.9104\n",
      "Epoch 73/100\n",
      "212/212 [==============================] - 0s 90us/step - loss: 0.3378 - acc: 0.9057\n",
      "Epoch 74/100\n",
      "212/212 [==============================] - 0s 103us/step - loss: 0.3343 - acc: 0.9104\n",
      "Epoch 75/100\n",
      "212/212 [==============================] - 0s 102us/step - loss: 0.3325 - acc: 0.9104\n",
      "Epoch 76/100\n",
      "212/212 [==============================] - 0s 87us/step - loss: 0.3310 - acc: 0.9104\n",
      "Epoch 77/100\n",
      "212/212 [==============================] - 0s 95us/step - loss: 0.3289 - acc: 0.9104\n",
      "Epoch 78/100\n",
      "212/212 [==============================] - 0s 103us/step - loss: 0.3274 - acc: 0.9104\n",
      "Epoch 79/100\n",
      "212/212 [==============================] - 0s 83us/step - loss: 0.3257 - acc: 0.9104\n",
      "Epoch 80/100\n",
      "212/212 [==============================] - 0s 99us/step - loss: 0.3241 - acc: 0.9104\n",
      "Epoch 81/100\n",
      "212/212 [==============================] - 0s 114us/step - loss: 0.3221 - acc: 0.9104\n",
      "Epoch 82/100\n",
      "212/212 [==============================] - 0s 84us/step - loss: 0.3210 - acc: 0.9104\n",
      "Epoch 83/100\n",
      "212/212 [==============================] - 0s 104us/step - loss: 0.3196 - acc: 0.9104\n",
      "Epoch 84/100\n"
     ]
    },
    {
     "name": "stdout",
     "output_type": "stream",
     "text": [
      "212/212 [==============================] - 0s 102us/step - loss: 0.3176 - acc: 0.9104\n",
      "Epoch 85/100\n",
      "212/212 [==============================] - 0s 86us/step - loss: 0.3158 - acc: 0.9151\n",
      "Epoch 86/100\n",
      "212/212 [==============================] - 0s 104us/step - loss: 0.3140 - acc: 0.9198\n",
      "Epoch 87/100\n",
      "212/212 [==============================] - 0s 96us/step - loss: 0.3124 - acc: 0.9198\n",
      "Epoch 88/100\n",
      "212/212 [==============================] - 0s 104us/step - loss: 0.3112 - acc: 0.9198\n",
      "Epoch 89/100\n",
      "212/212 [==============================] - 0s 97us/step - loss: 0.3097 - acc: 0.9198\n",
      "Epoch 90/100\n",
      "212/212 [==============================] - 0s 88us/step - loss: 0.3077 - acc: 0.9198\n",
      "Epoch 91/100\n",
      "212/212 [==============================] - 0s 94us/step - loss: 0.3060 - acc: 0.9198\n",
      "Epoch 92/100\n",
      "212/212 [==============================] - 0s 86us/step - loss: 0.3041 - acc: 0.9151\n",
      "Epoch 93/100\n",
      "212/212 [==============================] - 0s 100us/step - loss: 0.3031 - acc: 0.9198\n",
      "Epoch 94/100\n",
      "212/212 [==============================] - 0s 86us/step - loss: 0.3018 - acc: 0.9245\n",
      "Epoch 95/100\n",
      "212/212 [==============================] - 0s 89us/step - loss: 0.3000 - acc: 0.9198\n",
      "Epoch 96/100\n",
      "212/212 [==============================] - 0s 107us/step - loss: 0.2987 - acc: 0.9198\n",
      "Epoch 97/100\n",
      "212/212 [==============================] - 0s 80us/step - loss: 0.2970 - acc: 0.9198\n",
      "Epoch 98/100\n",
      "212/212 [==============================] - 0s 99us/step - loss: 0.2955 - acc: 0.9151\n",
      "Epoch 99/100\n",
      "212/212 [==============================] - 0s 94us/step - loss: 0.2942 - acc: 0.9198\n",
      "Epoch 100/100\n",
      "212/212 [==============================] - 0s 84us/step - loss: 0.2935 - acc: 0.9198\n"
     ]
    },
    {
     "data": {
      "text/plain": [
       "<keras.callbacks.History at 0x7f2f38b79cf8>"
      ]
     },
     "execution_count": 69,
     "metadata": {},
     "output_type": "execute_result"
    }
   ],
   "source": [
    "model.add(Dense(output_dim = 7,init = 'uniform' , activation = 'relu' , input_dim = 13 ))\n",
    "model.add(Dense(output_dim = 7,init = 'uniform' , activation = 'relu' ))\n",
    "model.add(Dense(output_dim = 1,init = 'uniform' , activation = 'sigmoid' ))\n",
    "model.compile(optimizer = 'adam' , loss = 'binary_crossentropy' , metrics = ['accuracy'] )\n",
    "model.fit(X_train, y_train, batch_size = 10 , nb_epoch = 100)"
   ]
  },
  {
   "cell_type": "code",
   "execution_count": 70,
   "metadata": {},
   "outputs": [],
   "source": [
    "y_pred_ann = model.predict(X_test)\n",
    "y_pred_ann = (y_pred_ann > 0.5)"
   ]
  },
  {
   "cell_type": "code",
   "execution_count": 71,
   "metadata": {},
   "outputs": [],
   "source": [
    "from sklearn.metrics import confusion_matrix\n",
    "cm = confusion_matrix(y_test,y_pred_ann)"
   ]
  },
  {
   "cell_type": "code",
   "execution_count": 72,
   "metadata": {},
   "outputs": [
    {
     "name": "stdout",
     "output_type": "stream",
     "text": [
      "Accuracy: 0.8461538461538461\n",
      "Precision: 0.86\n",
      "Recall: 0.86\n"
     ]
    }
   ],
   "source": [
    "from sklearn import metrics\n",
    "print(\"Accuracy:\",metrics.accuracy_score(y_test, y_pred_ann))\n",
    "print(\"Precision:\",metrics.precision_score(y_test, y_pred_ann))\n",
    "print(\"Recall:\",metrics.recall_score(y_test, y_pred_ann))"
   ]
  },
  {
   "cell_type": "code",
   "execution_count": null,
   "metadata": {},
   "outputs": [],
   "source": []
  }
 ],
 "metadata": {
  "kernelspec": {
   "display_name": "Python 3",
   "language": "python",
   "name": "python3"
  },
  "language_info": {
   "codemirror_mode": {
    "name": "ipython",
    "version": 3
   },
   "file_extension": ".py",
   "mimetype": "text/x-python",
   "name": "python",
   "nbconvert_exporter": "python",
   "pygments_lexer": "ipython3",
   "version": "3.6.5"
  }
 },
 "nbformat": 4,
 "nbformat_minor": 2
}
